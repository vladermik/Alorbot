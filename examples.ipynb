{
 "cells": [
  {
   "cell_type": "code",
   "execution_count": 2,
   "metadata": {},
   "outputs": [
    {
     "data": {
      "text/plain": [
       "symbol                                           LQDT\n",
       "shortName                                    LQDT ETF\n",
       "description                   БПИФ Ликвидность УК ВИМ\n",
       "exchange                                         MOEX\n",
       "market                                           FOND\n",
       "type                                               MF\n",
       "lotSize                                             1\n",
       "faceValue                                         0.0\n",
       "cfiCode                                        EUXXXX\n",
       "cancellation              9999-12-31T23:59:59.9999999\n",
       "minStep                                        0.0001\n",
       "roundTo                                             4\n",
       "rating                                     6739487369\n",
       "marginBuy                                      1.3639\n",
       "marginSell                                     1.4099\n",
       "marginRate                                        0.0\n",
       "priceStep                                           0\n",
       "priceMax                                       1.4534\n",
       "priceMin                                       1.3672\n",
       "theorPrice                                          0\n",
       "theorPriceLimit                                     0\n",
       "volatility                                          0\n",
       "currency                                          RUB\n",
       "nominalCurrency                                   RUB\n",
       "settlementCurrency                                RUB\n",
       "underlyingCurrency                                RUB\n",
       "ISIN                                     RU000A1014L8\n",
       "yield                                             NaN\n",
       "board                                            TQTF\n",
       "primaryBoard                                     TQTF\n",
       "tradingStatus                                      17\n",
       "tradingStatusInfo            нормальный период торгов\n",
       "complexProductCategory                            NaN\n",
       "priceMultiplier                                   1.0\n",
       "priceShownUnits                                     1\n",
       "Name: 0, dtype: object"
      ]
     },
     "execution_count": 2,
     "metadata": {},
     "output_type": "execute_result"
    }
   ],
   "source": [
    "import pandas as pd\n",
    "df = pd.read_csv(r\"data\\info_about_instruments\\all_instruments.csv\")\n",
    "df[(df['primaryBoard'] == 'TQBR') & (df['type'].isin(['CS', 'PS', 'RDR']))]['symbol'].tolist()\n",
    "df.iloc[0, :]"
   ]
  },
  {
   "cell_type": "code",
   "execution_count": 2,
   "metadata": {},
   "outputs": [
    {
     "name": "stdout",
     "output_type": "stream",
     "text": [
      "its ok\n",
      "           time   close    open    high     low  volume\n",
      "0    1717397760  313.50  313.50  313.50  313.50   10442\n",
      "1    1717398000  315.17  313.50  315.35  313.50  162311\n",
      "2    1717398240  314.35  315.18  315.50  314.22   91798\n",
      "3    1717398480  314.33  314.35  314.65  313.82   59302\n",
      "4    1717398720  314.45  314.37  314.48  314.03   32668\n",
      "..          ...     ...     ...     ...     ...     ...\n",
      "536  1717600800  315.73  315.84  315.90  315.71    4249\n",
      "537  1717601040  315.75  315.73  315.75  315.65    1071\n",
      "538  1717601280  315.60  315.65  315.74  315.59   10706\n",
      "539  1717601520  315.58  315.60  315.69  315.50   19664\n",
      "540  1717601760  315.57  315.57  315.75  315.50   15999\n",
      "\n",
      "[541 rows x 6 columns]\n"
     ]
    }
   ],
   "source": [
    "import AlorApiWrapper.AlorApi as a\n",
    "alor = a.AlorApi()\n",
    "print(alor.get_history(ticker='SBER', timeframe=240, start=1717342370))"
   ]
  },
  {
   "cell_type": "code",
   "execution_count": 1,
   "metadata": {},
   "outputs": [
    {
     "name": "stdout",
     "output_type": "stream",
     "text": [
      "None\n"
     ]
    }
   ],
   "source": [
    "from Paper.Paper import Paper\n",
    "sber = Paper('SBER')\n",
    "sber.rsi()\n",
    "sber.convert_date()\n",
    "sber.data.dropna(inplace=True)"
   ]
  },
  {
   "cell_type": "code",
   "execution_count": 9,
   "metadata": {},
   "outputs": [
    {
     "data": {
      "text/plain": [
       "13        2018-01-03 07:12:00\n",
       "14        2018-01-03 07:13:00\n",
       "15        2018-01-03 07:14:00\n",
       "16        2018-01-03 07:15:00\n",
       "17        2018-01-03 07:16:00\n",
       "                  ...        \n",
       "1101011   2024-06-04 20:43:00\n",
       "1101012   2024-06-04 20:44:00\n",
       "1101013   2024-06-04 20:45:00\n",
       "1101014   2024-06-04 20:46:00\n",
       "1101015   2024-06-04 20:47:00\n",
       "Name: time, Length: 1101003, dtype: datetime64[ns]"
      ]
     },
     "execution_count": 9,
     "metadata": {},
     "output_type": "execute_result"
    }
   ],
   "source": [
    "sber.data.loc[:, 'time']"
   ]
  },
  {
   "cell_type": "code",
   "execution_count": null,
   "metadata": {},
   "outputs": [],
   "source": [
    "from Test.Test import Test\n",
    "class MyTest(Test):\n",
    "    def decide(self):\n",
    "        #переписать decide()"
   ]
  }
 ],
 "metadata": {
  "kernelspec": {
   "display_name": ".venv",
   "language": "python",
   "name": "python3"
  },
  "language_info": {
   "codemirror_mode": {
    "name": "ipython",
    "version": 3
   },
   "file_extension": ".py",
   "mimetype": "text/x-python",
   "name": "python",
   "nbconvert_exporter": "python",
   "pygments_lexer": "ipython3",
   "version": "3.11.4"
  }
 },
 "nbformat": 4,
 "nbformat_minor": 2
}
