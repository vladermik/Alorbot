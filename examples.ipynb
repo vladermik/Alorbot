{
 "cells": [
  {
   "cell_type": "code",
   "execution_count": 8,
   "metadata": {},
   "outputs": [
    {
     "data": {
      "text/html": [
       "<div>\n",
       "<style scoped>\n",
       "    .dataframe tbody tr th:only-of-type {\n",
       "        vertical-align: middle;\n",
       "    }\n",
       "\n",
       "    .dataframe tbody tr th {\n",
       "        vertical-align: top;\n",
       "    }\n",
       "\n",
       "    .dataframe thead th {\n",
       "        text-align: right;\n",
       "    }\n",
       "</style>\n",
       "<table border=\"1\" class=\"dataframe\">\n",
       "  <thead>\n",
       "    <tr style=\"text-align: right;\">\n",
       "      <th></th>\n",
       "      <th>symbol</th>\n",
       "      <th>shortName</th>\n",
       "      <th>description</th>\n",
       "      <th>exchange</th>\n",
       "      <th>market</th>\n",
       "      <th>type</th>\n",
       "      <th>lotSize</th>\n",
       "      <th>faceValue</th>\n",
       "      <th>cfiCode</th>\n",
       "      <th>cancellation</th>\n",
       "      <th>...</th>\n",
       "      <th>underlyingCurrency</th>\n",
       "      <th>ISIN</th>\n",
       "      <th>yield</th>\n",
       "      <th>board</th>\n",
       "      <th>primaryBoard</th>\n",
       "      <th>tradingStatus</th>\n",
       "      <th>tradingStatusInfo</th>\n",
       "      <th>complexProductCategory</th>\n",
       "      <th>priceMultiplier</th>\n",
       "      <th>priceShownUnits</th>\n",
       "    </tr>\n",
       "  </thead>\n",
       "  <tbody>\n",
       "    <tr>\n",
       "      <th>22</th>\n",
       "      <td>SBER</td>\n",
       "      <td>Сбербанк</td>\n",
       "      <td>Сбербанк России ПАО ао</td>\n",
       "      <td>MOEX</td>\n",
       "      <td>FOND</td>\n",
       "      <td>CS</td>\n",
       "      <td>10</td>\n",
       "      <td>3.0</td>\n",
       "      <td>ESXXXX</td>\n",
       "      <td>9999-12-31T23:59:59.9999999</td>\n",
       "      <td>...</td>\n",
       "      <td>RUB</td>\n",
       "      <td>RU0009029540</td>\n",
       "      <td>NaN</td>\n",
       "      <td>TQBR</td>\n",
       "      <td>TQBR</td>\n",
       "      <td>17</td>\n",
       "      <td>нормальный период торгов</td>\n",
       "      <td>NaN</td>\n",
       "      <td>1.0</td>\n",
       "      <td>1</td>\n",
       "    </tr>\n",
       "  </tbody>\n",
       "</table>\n",
       "<p>1 rows × 35 columns</p>\n",
       "</div>"
      ],
      "text/plain": [
       "   symbol shortName             description exchange market type  lotSize  \\\n",
       "22   SBER  Сбербанк  Сбербанк России ПАО ао     MOEX   FOND   CS       10   \n",
       "\n",
       "    faceValue cfiCode                 cancellation  ...  underlyingCurrency  \\\n",
       "22        3.0  ESXXXX  9999-12-31T23:59:59.9999999  ...                 RUB   \n",
       "\n",
       "            ISIN  yield  board  primaryBoard  tradingStatus  \\\n",
       "22  RU0009029540    NaN   TQBR          TQBR             17   \n",
       "\n",
       "           tradingStatusInfo  complexProductCategory  priceMultiplier  \\\n",
       "22  нормальный период торгов                     NaN              1.0   \n",
       "\n",
       "    priceShownUnits  \n",
       "22                1  \n",
       "\n",
       "[1 rows x 35 columns]"
      ]
     },
     "execution_count": 8,
     "metadata": {},
     "output_type": "execute_result"
    }
   ],
   "source": [
    "import pandas as pd\n",
    "df = pd.read_csv(r\"data\\info_about_instruments\\all_instruments.csv\")\n",
    "df[df['symbol'] == 'SBER']"
   ]
  }
 ],
 "metadata": {
  "kernelspec": {
   "display_name": ".venv",
   "language": "python",
   "name": "python3"
  },
  "language_info": {
   "codemirror_mode": {
    "name": "ipython",
    "version": 3
   },
   "file_extension": ".py",
   "mimetype": "text/x-python",
   "name": "python",
   "nbconvert_exporter": "python",
   "pygments_lexer": "ipython3",
   "version": "3.11.4"
  }
 },
 "nbformat": 4,
 "nbformat_minor": 2
}
